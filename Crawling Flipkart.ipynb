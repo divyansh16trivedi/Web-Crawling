{
 "cells": [
  {
   "cell_type": "code",
   "execution_count": 3,
   "metadata": {},
   "outputs": [
    {
     "ename": "IndentationError",
     "evalue": "unexpected indent (<ipython-input-3-78e51fa20895>, line 4)",
     "output_type": "error",
     "traceback": [
      "\u001b[1;36m  File \u001b[1;32m\"<ipython-input-3-78e51fa20895>\"\u001b[1;36m, line \u001b[1;32m4\u001b[0m\n\u001b[1;33m    print(a**1/2)\u001b[0m\n\u001b[1;37m    ^\u001b[0m\n\u001b[1;31mIndentationError\u001b[0m\u001b[1;31m:\u001b[0m unexpected indent\n"
     ]
    }
   ],
   "source": [
    "a=int(input(\"enter a number\"))\n",
    "b=int(input(\"enter a number\"))\n",
    "ifa<b\n",
    "    print(a**1/2)\n",
    "    print(b**1/3)\n",
    "else:\n",
    "    print(b**1/2)\n",
    "    print(a**1/3)\n",
    "    "
   ]
  },
  {
   "cell_type": "code",
   "execution_count": 5,
   "metadata": {},
   "outputs": [
    {
     "name": "stdout",
     "output_type": "stream",
     "text": [
      "before 5\n",
      "is 5\n",
      "is still 5\n",
      "third 5\n",
      "afterwards 5\n",
      "before 6\n",
      "afterwards 6\n"
     ]
    }
   ],
   "source": [
    "x=5\n",
    "print(\"before 5\")\n",
    "if x==5:\n",
    "    print('is 5')\n",
    "    print('is still 5')\n",
    "    print('third 5')\n",
    "print('afterwards 5')\n",
    "print('before 6')\n",
    "if x==6:\n",
    "    print('is 6')\n",
    "    print('is still 6')\n",
    "    print('third 6')\n",
    "print('afterwards 6')    \n",
    "    \n",
    "    "
   ]
  },
  {
   "cell_type": "code",
   "execution_count": 9,
   "metadata": {},
   "outputs": [
    {
     "name": "stdout",
     "output_type": "stream",
     "text": [
      "o is false\n",
      "non zero is true\n",
      "nonzero is true\n",
      "True\n"
     ]
    }
   ],
   "source": [
    "if 0:\n",
    "    print(\"0 is false\")\n",
    "else:\n",
    "    print(\"o is false\")\n",
    "if 1:\n",
    "    print(\"non zero is true\")\n",
    "if -1:\n",
    "    print(\"nonzero is true\")\n",
    "    print (2 < 3)\n",
    "    "
   ]
  },
  {
   "cell_type": "code",
   "execution_count": 10,
   "metadata": {},
   "outputs": [
    {
     "name": "stdout",
     "output_type": "stream",
     "text": [
      "45\n"
     ]
    }
   ],
   "source": [
    "print(12+33)"
   ]
  },
  {
   "cell_type": "markdown",
   "metadata": {},
   "source": [
    "print()"
   ]
  },
  {
   "cell_type": "code",
   "execution_count": 15,
   "metadata": {},
   "outputs": [
    {
     "ename": "SyntaxError",
     "evalue": "invalid syntax (<fstring>, line 1)",
     "output_type": "error",
     "traceback": [
      "\u001b[1;36m  File \u001b[1;32m\"<fstring>\"\u001b[1;36m, line \u001b[1;32m1\u001b[0m\n\u001b[1;33m    (a=)\u001b[0m\n\u001b[1;37m      ^\u001b[0m\n\u001b[1;31mSyntaxError\u001b[0m\u001b[1;31m:\u001b[0m invalid syntax\n"
     ]
    }
   ],
   "source": [
    "a=12\n",
    "b=33\n",
    "#c=a+b\n",
    "print(f\"Sum of {a=} and {b=} is {(c:=a+b)}\")\n",
    "#print(\"Sum of {} and {} is {}\".format(a,b,c))"
   ]
  },
  {
   "cell_type": "code",
   "execution_count": 16,
   "metadata": {},
   "outputs": [
    {
     "name": "stdout",
     "output_type": "stream",
     "text": [
      "*\n",
      "**\n",
      "***\n",
      "****\n",
      "*****\n"
     ]
    }
   ],
   "source": [
    "for i in range(1,6):\n",
    "    print(\"*\"*i)"
   ]
  },
  {
   "cell_type": "code",
   "execution_count": 18,
   "metadata": {},
   "outputs": [
    {
     "name": "stdout",
     "output_type": "stream",
     "text": [
      "         *\n",
      "        ***\n",
      "       *****\n",
      "      *******\n",
      "     *********\n"
     ]
    }
   ],
   "source": [
    "for i in range(1,6):\n",
    "    print(\" \"*(10-i)+\"*\"*(2*i-1))"
   ]
  },
  {
   "cell_type": "code",
   "execution_count": null,
   "metadata": {},
   "outputs": [],
   "source": [
    "import datetime as dt\n",
    "import calendar as cl\n",
    "helloIntent=[\"hello\",\"hi\",\"hey there\",\"hello there\"]\n",
    "dateIntent=[\"date\",\"please tell me time\",\"date please\"]\n",
    "timeIntent=[\"time\",\"time please\",\"what's the time\"]\n",
    "\n",
    "msg = input(\"Enter your message:\")\n",
    "msg=msg.lower()\n",
    "if msg in helloIndent:\n",
    "    print(\"Hello User\")\n",
    "elif msg in dateIndent:\n",
    "    pass\n",
    "elif msg in timeIndent:\n",
    "    \n",
    "    "
   ]
  },
  {
   "cell_type": "code",
   "execution_count": 1,
   "metadata": {},
   "outputs": [],
   "source": [
    "import bs4\n",
    "import urllib.request as url"
   ]
  },
  {
   "cell_type": "code",
   "execution_count": 3,
   "metadata": {},
   "outputs": [],
   "source": [
    "response=url.urlopen('https://www.flipkart.com/search?q=apple+iphone&as=on&as-show=on&otracker=AS_Query_OrganicAutoSuggest_3_7_na_na_na&otracker1=AS_Query_OrganicAutoSuggest_3_7_na_na_na&as-pos=3&as-type=RECENT&suggestionId=apple+iphone&requestId=97e57814-2abb-4055-b103-ddc098e9af2b&as-backfill=on')"
   ]
  },
  {
   "cell_type": "code",
   "execution_count": 4,
   "metadata": {},
   "outputs": [],
   "source": [
    "page=bs4.BeautifulSoup(response)"
   ]
  },
  {
   "cell_type": "code",
   "execution_count": 5,
   "metadata": {},
   "outputs": [
    {
     "data": {
      "text/plain": [
       "'Apple iPhone SE (White, 64 GB)'"
      ]
     },
     "execution_count": 5,
     "metadata": {},
     "output_type": "execute_result"
    }
   ],
   "source": [
    "title=page.find('div', class_='_3wU53n')\n",
    "title.text"
   ]
  },
  {
   "cell_type": "code",
   "execution_count": 6,
   "metadata": {},
   "outputs": [
    {
     "data": {
      "text/plain": [
       "'₹37,900'"
      ]
     },
     "execution_count": 6,
     "metadata": {},
     "output_type": "execute_result"
    }
   ],
   "source": [
    "price=page.find('div', class_='_1vC4OE _2rQ-NK')\n",
    "price.text"
   ]
  },
  {
   "cell_type": "code",
   "execution_count": 7,
   "metadata": {},
   "outputs": [],
   "source": [
    "titleList=page.find_all('div', class_='_3wU53n')\n",
    "priceList=page.find_all('div', class_='_1vC4OE _2rQ-NK')"
   ]
  },
  {
   "cell_type": "code",
   "execution_count": 8,
   "metadata": {},
   "outputs": [
    {
     "data": {
      "text/plain": [
       "24"
      ]
     },
     "execution_count": 8,
     "metadata": {},
     "output_type": "execute_result"
    }
   ],
   "source": [
    "len(titleList)\n",
    "len(priceList)"
   ]
  },
  {
   "cell_type": "code",
   "execution_count": 9,
   "metadata": {
    "scrolled": true
   },
   "outputs": [
    {
     "name": "stdout",
     "output_type": "stream",
     "text": [
      "Apple iPhone SE (White, 64 GB)\n",
      "₹37,900\n",
      "====================\n",
      "Apple iPhone SE (Black, 64 GB)\n",
      "₹37,900\n",
      "====================\n",
      "Apple iPhone SE (Red, 64 GB)\n",
      "₹37,900\n",
      "====================\n",
      "Apple iPhone SE (Black, 128 GB)\n",
      "₹43,900\n",
      "====================\n",
      "Apple iPhone XR (White, 64 GB)\n",
      "₹47,500\n",
      "====================\n",
      "Apple iPhone XR (Black, 64 GB)\n",
      "₹47,500\n",
      "====================\n",
      "Apple iPhone XR (Black, 128 GB)\n",
      "₹53,500\n",
      "====================\n",
      "Apple iPhone XR (White, 128 GB)\n",
      "₹53,500\n",
      "====================\n",
      "Apple iPhone SE (White, 128 GB)\n",
      "₹43,900\n",
      "====================\n",
      "Apple iPhone SE (Red, 128 GB)\n",
      "₹43,900\n",
      "====================\n",
      "Apple iPhone XR ((PRODUCT)RED, 64 GB)\n",
      "₹47,500\n",
      "====================\n",
      "Apple iPhone XR (Blue, 64 GB)\n",
      "₹47,500\n",
      "====================\n",
      "Apple iPhone XR ((PRODUCT)RED, 128 GB)\n",
      "₹53,500\n",
      "====================\n",
      "Apple iPhone XR (Coral, 64 GB)\n",
      "₹47,500\n",
      "====================\n",
      "Apple iPhone 11 (Green, 128 GB)\n",
      "₹72,990\n",
      "====================\n",
      "Apple iPhone XR (Blue, 128 GB)\n",
      "₹53,500\n",
      "====================\n",
      "Apple iPhone 11 (Black, 128 GB)\n",
      "₹72,990\n",
      "====================\n",
      "Apple iPhone 7 (Black, 32 GB)\n",
      "₹29,799\n",
      "====================\n",
      "Apple iPhone 11 (White, 64 GB)\n",
      "₹66,990\n",
      "====================\n",
      "Apple iPhone 11 (Black, 64 GB)\n",
      "₹66,990\n",
      "====================\n",
      "Apple iPhone 11 (Green, 64 GB)\n",
      "₹66,990\n",
      "====================\n",
      "Apple iPhone 11 (White, 128 GB)\n",
      "₹72,990\n",
      "====================\n",
      "Apple iPhone 11 (Purple, 64 GB)\n",
      "₹66,990\n",
      "====================\n",
      "Apple iPhone 11 (Purple, 128 GB)\n",
      "₹72,990\n",
      "====================\n"
     ]
    }
   ],
   "source": [
    "for i in range(len(titleList)):\n",
    "    print(titleList[i].text)\n",
    "    print(priceList[i].text)\n",
    "    print('='*20)"
   ]
  },
  {
   "cell_type": "code",
   "execution_count": 20,
   "metadata": {},
   "outputs": [],
   "source": [
    "data={'title':[],'price':[]}\n",
    "for i in range(1,6):\n",
    "    responses=url.urlopen('https://www.flipkart.com/search?q=apple+iphone&as=on&as-show=on&otracker=AS_Query_OrganicAutoSuggest_3_7_na_na_na&otracker1=AS_Query_OrganicAutoSuggest_3_7_na_na_na&as-pos=3&as-type=RECENT&suggestionId=apple+iphone&requestId=97e57814-2abb-4055-b103-ddc098e9af2b&as-backfill=on&page={}'.format(i))\n",
    "    page=bs4.BeautifulSoup(responses)\n",
    "    titleList=page.find_all('div', class_='_3wU53n')\n",
    "    priceList=page.find_all('div', class_='_1vC4OE _2rQ-NK')\n",
    "    for j in range(len(titleList)):\n",
    "        data['title'].append(titleList[j].text)\n",
    "        data['price'].append(priceList[j].text)"
   ]
  },
  {
   "cell_type": "code",
   "execution_count": 21,
   "metadata": {},
   "outputs": [
    {
     "data": {
      "text/plain": [
       "(120, 2)"
      ]
     },
     "execution_count": 21,
     "metadata": {},
     "output_type": "execute_result"
    }
   ],
   "source": [
    "import pandas as pd\n",
    "df=pd.DataFrame(data)\n",
    "df.shape"
   ]
  },
  {
   "cell_type": "code",
   "execution_count": 22,
   "metadata": {},
   "outputs": [
    {
     "data": {
      "text/html": [
       "<div>\n",
       "<style scoped>\n",
       "    .dataframe tbody tr th:only-of-type {\n",
       "        vertical-align: middle;\n",
       "    }\n",
       "\n",
       "    .dataframe tbody tr th {\n",
       "        vertical-align: top;\n",
       "    }\n",
       "\n",
       "    .dataframe thead th {\n",
       "        text-align: right;\n",
       "    }\n",
       "</style>\n",
       "<table border=\"1\" class=\"dataframe\">\n",
       "  <thead>\n",
       "    <tr style=\"text-align: right;\">\n",
       "      <th></th>\n",
       "      <th>title</th>\n",
       "      <th>price</th>\n",
       "    </tr>\n",
       "  </thead>\n",
       "  <tbody>\n",
       "    <tr>\n",
       "      <td>0</td>\n",
       "      <td>Apple iPhone SE (White, 64 GB)</td>\n",
       "      <td>₹37,900</td>\n",
       "    </tr>\n",
       "    <tr>\n",
       "      <td>1</td>\n",
       "      <td>Apple iPhone SE (Black, 64 GB)</td>\n",
       "      <td>₹37,900</td>\n",
       "    </tr>\n",
       "    <tr>\n",
       "      <td>2</td>\n",
       "      <td>Apple iPhone SE (Red, 64 GB)</td>\n",
       "      <td>₹37,900</td>\n",
       "    </tr>\n",
       "    <tr>\n",
       "      <td>3</td>\n",
       "      <td>Apple iPhone SE (Black, 128 GB)</td>\n",
       "      <td>₹43,900</td>\n",
       "    </tr>\n",
       "    <tr>\n",
       "      <td>4</td>\n",
       "      <td>Apple iPhone XR (White, 64 GB)</td>\n",
       "      <td>₹47,500</td>\n",
       "    </tr>\n",
       "  </tbody>\n",
       "</table>\n",
       "</div>"
      ],
      "text/plain": [
       "                             title    price\n",
       "0   Apple iPhone SE (White, 64 GB)  ₹37,900\n",
       "1   Apple iPhone SE (Black, 64 GB)  ₹37,900\n",
       "2     Apple iPhone SE (Red, 64 GB)  ₹37,900\n",
       "3  Apple iPhone SE (Black, 128 GB)  ₹43,900\n",
       "4   Apple iPhone XR (White, 64 GB)  ₹47,500"
      ]
     },
     "execution_count": 22,
     "metadata": {},
     "output_type": "execute_result"
    }
   ],
   "source": [
    "df.head()"
   ]
  },
  {
   "cell_type": "code",
   "execution_count": null,
   "metadata": {},
   "outputs": [],
   "source": []
  }
 ],
 "metadata": {
  "kernelspec": {
   "display_name": "Python 3",
   "language": "python",
   "name": "python3"
  },
  "language_info": {
   "codemirror_mode": {
    "name": "ipython",
    "version": 3
   },
   "file_extension": ".py",
   "mimetype": "text/x-python",
   "name": "python",
   "nbconvert_exporter": "python",
   "pygments_lexer": "ipython3",
   "version": "3.7.4"
  }
 },
 "nbformat": 4,
 "nbformat_minor": 2
}
